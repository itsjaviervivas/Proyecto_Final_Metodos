{
  "nbformat": 4,
  "nbformat_minor": 0,
  "metadata": {
    "colab": {
      "provenance": []
    },
    "kernelspec": {
      "name": "python3",
      "display_name": "Python 3"
    },
    "language_info": {
      "name": "python"
    }
  },
  "cells": [
    {
      "cell_type": "code",
      "source": [
        "import numpy as np\n",
        "import pandas as pd\n",
        "from math import *"
      ],
      "metadata": {
        "id": "pUxLTcxCHl_w"
      },
      "execution_count": 6,
      "outputs": []
    },
    {
      "cell_type": "code",
      "execution_count": 7,
      "metadata": {
        "id": "txROy657j-ku",
        "colab": {
          "base_uri": "https://localhost:8080/"
        },
        "outputId": "c5b77f65-3863-41d1-a298-607f052a4973"
      },
      "outputs": [
        {
          "output_type": "stream",
          "name": "stdout",
          "text": [
            "0.5 1.151909910168909 0.8681234453945849 0.5539082889483392\n",
            "u=  1.1414213562373094 \t d= 0.8585786437626904\n"
          ]
        }
      ],
      "source": [
        "S0 = 100\n",
        "K\t= 52\n",
        "T\t= 1.5\n",
        "N\t= 3\n",
        "r\t= 0.03\n",
        "sigma =\t0.2\n",
        "dt = T/N \n",
        "u\t= np.exp(sigma*sqrt(dt))\n",
        "d\t= np.exp(-sigma*sqrt(dt))\n",
        "p=(np.exp(r*dt)-d)/(u-d)\n",
        "\n",
        "print(dt,u,d,p)\n",
        "print(\"u= \",1+sigma*sqrt(dt), \"\\t d=\", 1-sigma*sqrt(dt))"
      ]
    },
    {
      "cell_type": "code",
      "source": [
        "V = {}\n",
        "\n",
        "valores_intrisecos = []\n",
        "#Si escenario == 1 entonces sube\n",
        "#Si escenario == 0 entonces baja\n",
        "#Si escenario == -1 es raiz\n",
        "def arbol(estados,st,u,d,k, longitud, escenario, SumaNodosAnteriores):\n",
        "  st=round(st,2)\n",
        "  if estados==0:\n",
        "    ValorNodoAnterior = 0\n",
        "    if escenario == 1:\n",
        "      ValorNodoAnterior = st/u\n",
        "    elif escenario == 0:\n",
        "      ValorNodoAnterior = st/d\n",
        "    ValorNodoAnterior = round(ValorNodoAnterior,1)\n",
        "    sumaDelNodo = st + ValorNodoAnterior + SumaNodosAnteriores\n",
        "    promedio = sumaDelNodo / (longitud+1)\n",
        "    valores_intrisecos.append(max(0, round(st - promedio,2)))\n",
        "    try:\n",
        "        V[longitud].append(st)\n",
        "    except:\n",
        "        V[longitud]=[st]\n",
        "  else:\n",
        "    ValorNodoAnterior = 0\n",
        "    if escenario == 1:\n",
        "      ValorNodoAnterior = st/u\n",
        "    elif escenario == 0:\n",
        "      ValorNodoAnterior = st/d\n",
        "    ValorNodoAnterior = round(ValorNodoAnterior,1)\n",
        "    arbol(estados-1,st*u,u,d,k, longitud+1, 1, ValorNodoAnterior+SumaNodosAnteriores)\n",
        "    arbol(estados-1,st*d,u,d,k, longitud+1, 0, ValorNodoAnterior+SumaNodosAnteriores)\n",
        "    sumaDelNodo = st + ValorNodoAnterior + SumaNodosAnteriores\n",
        "    promedio = sumaDelNodo / (longitud+1)\n",
        "\n",
        "    try:\n",
        "        V[longitud].append(st)\n",
        "    except:\n",
        "        V[longitud]=[st]"
      ],
      "metadata": {
        "id": "ZMFbumdxHxJ2"
      },
      "execution_count": 63,
      "outputs": []
    },
    {
      "cell_type": "code",
      "source": [
        "arbol(3,50,1.151,0.868,52,0, -1, 0)"
      ],
      "metadata": {
        "id": "tVf6Q8NyH01s"
      },
      "execution_count": 36,
      "outputs": []
    },
    {
      "cell_type": "code",
      "source": [
        "p = 0.553\n",
        "dt = 0.5\n",
        "r = 0.05\n",
        "\n",
        "while len(valores_intrisecos) > 1:\n",
        "    intrisecos_tmp = []\n",
        "    for idx in range(0,len(valores_intrisecos),2):\n",
        "        valor_presente = exp(-r*dt)*((p*valores_intrisecos[idx])  + (1-p)*valores_intrisecos[idx+1])\n",
        "        intrisecos_tmp.append(valor_presente)\n",
        "\n",
        "    valores_intrisecos = intrisecos_tmp\n",
        "\n",
        "print(\"Valor de la opción Asiatica:\",valores_intrisecos[0])"
      ],
      "metadata": {
        "colab": {
          "base_uri": "https://localhost:8080/"
        },
        "id": "HvylEOXEH33y",
        "outputId": "2dd0b6bb-1cd0-4409-a74f-9ebe08f0620d"
      },
      "execution_count": 39,
      "outputs": [
        {
          "output_type": "stream",
          "name": "stdout",
          "text": [
            "Valor de la opción Asiatica: 3.559900042115658\n"
          ]
        }
      ]
    },
    {
      "cell_type": "code",
      "source": [
        "!pip install yfinance --upgrade --no-cache-dir\n",
        "import yfinance as yf\n",
        "import pandas as pd\n",
        "import matplotlib.pyplot as plt\n",
        "import numpy as np"
      ],
      "metadata": {
        "colab": {
          "base_uri": "https://localhost:8080/"
        },
        "id": "ok3Pk9CKJnrv",
        "outputId": "e8346ccd-063a-4cc6-b4c3-40215992812a"
      },
      "execution_count": 40,
      "outputs": [
        {
          "output_type": "stream",
          "name": "stdout",
          "text": [
            "Looking in indexes: https://pypi.org/simple, https://us-python.pkg.dev/colab-wheels/public/simple/\n",
            "Requirement already satisfied: yfinance in /usr/local/lib/python3.7/dist-packages (0.1.87)\n",
            "Requirement already satisfied: lxml>=4.5.1 in /usr/local/lib/python3.7/dist-packages (from yfinance) (4.9.1)\n",
            "Requirement already satisfied: numpy>=1.15 in /usr/local/lib/python3.7/dist-packages (from yfinance) (1.21.6)\n",
            "Requirement already satisfied: requests>=2.26 in /usr/local/lib/python3.7/dist-packages (from yfinance) (2.28.1)\n",
            "Requirement already satisfied: pandas>=0.24.0 in /usr/local/lib/python3.7/dist-packages (from yfinance) (1.3.5)\n",
            "Requirement already satisfied: appdirs>=1.4.4 in /usr/local/lib/python3.7/dist-packages (from yfinance) (1.4.4)\n",
            "Requirement already satisfied: multitasking>=0.0.7 in /usr/local/lib/python3.7/dist-packages (from yfinance) (0.0.11)\n",
            "Requirement already satisfied: python-dateutil>=2.7.3 in /usr/local/lib/python3.7/dist-packages (from pandas>=0.24.0->yfinance) (2.8.2)\n",
            "Requirement already satisfied: pytz>=2017.3 in /usr/local/lib/python3.7/dist-packages (from pandas>=0.24.0->yfinance) (2022.6)\n",
            "Requirement already satisfied: six>=1.5 in /usr/local/lib/python3.7/dist-packages (from python-dateutil>=2.7.3->pandas>=0.24.0->yfinance) (1.15.0)\n",
            "Requirement already satisfied: charset-normalizer<3,>=2 in /usr/local/lib/python3.7/dist-packages (from requests>=2.26->yfinance) (2.1.1)\n",
            "Requirement already satisfied: certifi>=2017.4.17 in /usr/local/lib/python3.7/dist-packages (from requests>=2.26->yfinance) (2022.9.24)\n",
            "Requirement already satisfied: idna<4,>=2.5 in /usr/local/lib/python3.7/dist-packages (from requests>=2.26->yfinance) (2.10)\n",
            "Requirement already satisfied: urllib3<1.27,>=1.21.1 in /usr/local/lib/python3.7/dist-packages (from requests>=2.26->yfinance) (1.24.3)\n"
          ]
        }
      ]
    },
    {
      "cell_type": "code",
      "source": [
        "META_data = yf.Ticker(\"META\") # Meta Platforms\n",
        "META_his = META_data.history(start='2022-1-1', end='2022-11-1')\n",
        "display(META_his)"
      ],
      "metadata": {
        "colab": {
          "base_uri": "https://localhost:8080/",
          "height": 455
        },
        "id": "T5CrZhsGJwHH",
        "outputId": "5d5949ca-86fc-4307-958a-dce3d3164b98"
      },
      "execution_count": 42,
      "outputs": [
        {
          "output_type": "display_data",
          "data": {
            "text/plain": [
              "                                 Open        High         Low       Close  \\\n",
              "Date                                                                        \n",
              "2022-01-03 00:00:00-05:00  338.299988  341.079987  337.190002  338.540009   \n",
              "2022-01-04 00:00:00-05:00  339.950012  343.089996  331.869995  336.529999   \n",
              "2022-01-05 00:00:00-05:00  333.019989  335.760010  323.839996  324.170013   \n",
              "2022-01-06 00:00:00-05:00  322.820007  339.170013  322.720001  332.459991   \n",
              "2022-01-07 00:00:00-05:00  332.739990  337.000000  328.880005  331.790009   \n",
              "...                               ...         ...         ...         ...   \n",
              "2022-10-25 00:00:00-04:00  130.880005  138.350006  130.589996  137.509995   \n",
              "2022-10-26 00:00:00-04:00  131.679993  135.550003  128.529999  129.820007   \n",
              "2022-10-27 00:00:00-04:00   97.980003  102.500000   96.379997   97.940002   \n",
              "2022-10-28 00:00:00-04:00   99.580002  100.849998   97.510002   99.199997   \n",
              "2022-10-31 00:00:00-04:00   98.220001   99.320000   92.599998   93.160004   \n",
              "\n",
              "                              Volume  Dividends  Stock Splits  \n",
              "Date                                                           \n",
              "2022-01-03 00:00:00-05:00   14537900          0             0  \n",
              "2022-01-04 00:00:00-05:00   15998000          0             0  \n",
              "2022-01-05 00:00:00-05:00   20564500          0             0  \n",
              "2022-01-06 00:00:00-05:00   27962800          0             0  \n",
              "2022-01-07 00:00:00-05:00   14722000          0             0  \n",
              "...                              ...        ...           ...  \n",
              "2022-10-25 00:00:00-04:00   38433200          0             0  \n",
              "2022-10-26 00:00:00-04:00   82791500          0             0  \n",
              "2022-10-27 00:00:00-04:00  232316600          0             0  \n",
              "2022-10-28 00:00:00-04:00   95928300          0             0  \n",
              "2022-10-31 00:00:00-04:00  121361400          0             0  \n",
              "\n",
              "[209 rows x 7 columns]"
            ],
            "text/html": [
              "\n",
              "  <div id=\"df-2742361d-118f-4fa5-a008-58af0300f01a\">\n",
              "    <div class=\"colab-df-container\">\n",
              "      <div>\n",
              "<style scoped>\n",
              "    .dataframe tbody tr th:only-of-type {\n",
              "        vertical-align: middle;\n",
              "    }\n",
              "\n",
              "    .dataframe tbody tr th {\n",
              "        vertical-align: top;\n",
              "    }\n",
              "\n",
              "    .dataframe thead th {\n",
              "        text-align: right;\n",
              "    }\n",
              "</style>\n",
              "<table border=\"1\" class=\"dataframe\">\n",
              "  <thead>\n",
              "    <tr style=\"text-align: right;\">\n",
              "      <th></th>\n",
              "      <th>Open</th>\n",
              "      <th>High</th>\n",
              "      <th>Low</th>\n",
              "      <th>Close</th>\n",
              "      <th>Volume</th>\n",
              "      <th>Dividends</th>\n",
              "      <th>Stock Splits</th>\n",
              "    </tr>\n",
              "    <tr>\n",
              "      <th>Date</th>\n",
              "      <th></th>\n",
              "      <th></th>\n",
              "      <th></th>\n",
              "      <th></th>\n",
              "      <th></th>\n",
              "      <th></th>\n",
              "      <th></th>\n",
              "    </tr>\n",
              "  </thead>\n",
              "  <tbody>\n",
              "    <tr>\n",
              "      <th>2022-01-03 00:00:00-05:00</th>\n",
              "      <td>338.299988</td>\n",
              "      <td>341.079987</td>\n",
              "      <td>337.190002</td>\n",
              "      <td>338.540009</td>\n",
              "      <td>14537900</td>\n",
              "      <td>0</td>\n",
              "      <td>0</td>\n",
              "    </tr>\n",
              "    <tr>\n",
              "      <th>2022-01-04 00:00:00-05:00</th>\n",
              "      <td>339.950012</td>\n",
              "      <td>343.089996</td>\n",
              "      <td>331.869995</td>\n",
              "      <td>336.529999</td>\n",
              "      <td>15998000</td>\n",
              "      <td>0</td>\n",
              "      <td>0</td>\n",
              "    </tr>\n",
              "    <tr>\n",
              "      <th>2022-01-05 00:00:00-05:00</th>\n",
              "      <td>333.019989</td>\n",
              "      <td>335.760010</td>\n",
              "      <td>323.839996</td>\n",
              "      <td>324.170013</td>\n",
              "      <td>20564500</td>\n",
              "      <td>0</td>\n",
              "      <td>0</td>\n",
              "    </tr>\n",
              "    <tr>\n",
              "      <th>2022-01-06 00:00:00-05:00</th>\n",
              "      <td>322.820007</td>\n",
              "      <td>339.170013</td>\n",
              "      <td>322.720001</td>\n",
              "      <td>332.459991</td>\n",
              "      <td>27962800</td>\n",
              "      <td>0</td>\n",
              "      <td>0</td>\n",
              "    </tr>\n",
              "    <tr>\n",
              "      <th>2022-01-07 00:00:00-05:00</th>\n",
              "      <td>332.739990</td>\n",
              "      <td>337.000000</td>\n",
              "      <td>328.880005</td>\n",
              "      <td>331.790009</td>\n",
              "      <td>14722000</td>\n",
              "      <td>0</td>\n",
              "      <td>0</td>\n",
              "    </tr>\n",
              "    <tr>\n",
              "      <th>...</th>\n",
              "      <td>...</td>\n",
              "      <td>...</td>\n",
              "      <td>...</td>\n",
              "      <td>...</td>\n",
              "      <td>...</td>\n",
              "      <td>...</td>\n",
              "      <td>...</td>\n",
              "    </tr>\n",
              "    <tr>\n",
              "      <th>2022-10-25 00:00:00-04:00</th>\n",
              "      <td>130.880005</td>\n",
              "      <td>138.350006</td>\n",
              "      <td>130.589996</td>\n",
              "      <td>137.509995</td>\n",
              "      <td>38433200</td>\n",
              "      <td>0</td>\n",
              "      <td>0</td>\n",
              "    </tr>\n",
              "    <tr>\n",
              "      <th>2022-10-26 00:00:00-04:00</th>\n",
              "      <td>131.679993</td>\n",
              "      <td>135.550003</td>\n",
              "      <td>128.529999</td>\n",
              "      <td>129.820007</td>\n",
              "      <td>82791500</td>\n",
              "      <td>0</td>\n",
              "      <td>0</td>\n",
              "    </tr>\n",
              "    <tr>\n",
              "      <th>2022-10-27 00:00:00-04:00</th>\n",
              "      <td>97.980003</td>\n",
              "      <td>102.500000</td>\n",
              "      <td>96.379997</td>\n",
              "      <td>97.940002</td>\n",
              "      <td>232316600</td>\n",
              "      <td>0</td>\n",
              "      <td>0</td>\n",
              "    </tr>\n",
              "    <tr>\n",
              "      <th>2022-10-28 00:00:00-04:00</th>\n",
              "      <td>99.580002</td>\n",
              "      <td>100.849998</td>\n",
              "      <td>97.510002</td>\n",
              "      <td>99.199997</td>\n",
              "      <td>95928300</td>\n",
              "      <td>0</td>\n",
              "      <td>0</td>\n",
              "    </tr>\n",
              "    <tr>\n",
              "      <th>2022-10-31 00:00:00-04:00</th>\n",
              "      <td>98.220001</td>\n",
              "      <td>99.320000</td>\n",
              "      <td>92.599998</td>\n",
              "      <td>93.160004</td>\n",
              "      <td>121361400</td>\n",
              "      <td>0</td>\n",
              "      <td>0</td>\n",
              "    </tr>\n",
              "  </tbody>\n",
              "</table>\n",
              "<p>209 rows × 7 columns</p>\n",
              "</div>\n",
              "      <button class=\"colab-df-convert\" onclick=\"convertToInteractive('df-2742361d-118f-4fa5-a008-58af0300f01a')\"\n",
              "              title=\"Convert this dataframe to an interactive table.\"\n",
              "              style=\"display:none;\">\n",
              "        \n",
              "  <svg xmlns=\"http://www.w3.org/2000/svg\" height=\"24px\"viewBox=\"0 0 24 24\"\n",
              "       width=\"24px\">\n",
              "    <path d=\"M0 0h24v24H0V0z\" fill=\"none\"/>\n",
              "    <path d=\"M18.56 5.44l.94 2.06.94-2.06 2.06-.94-2.06-.94-.94-2.06-.94 2.06-2.06.94zm-11 1L8.5 8.5l.94-2.06 2.06-.94-2.06-.94L8.5 2.5l-.94 2.06-2.06.94zm10 10l.94 2.06.94-2.06 2.06-.94-2.06-.94-.94-2.06-.94 2.06-2.06.94z\"/><path d=\"M17.41 7.96l-1.37-1.37c-.4-.4-.92-.59-1.43-.59-.52 0-1.04.2-1.43.59L10.3 9.45l-7.72 7.72c-.78.78-.78 2.05 0 2.83L4 21.41c.39.39.9.59 1.41.59.51 0 1.02-.2 1.41-.59l7.78-7.78 2.81-2.81c.8-.78.8-2.07 0-2.86zM5.41 20L4 18.59l7.72-7.72 1.47 1.35L5.41 20z\"/>\n",
              "  </svg>\n",
              "      </button>\n",
              "      \n",
              "  <style>\n",
              "    .colab-df-container {\n",
              "      display:flex;\n",
              "      flex-wrap:wrap;\n",
              "      gap: 12px;\n",
              "    }\n",
              "\n",
              "    .colab-df-convert {\n",
              "      background-color: #E8F0FE;\n",
              "      border: none;\n",
              "      border-radius: 50%;\n",
              "      cursor: pointer;\n",
              "      display: none;\n",
              "      fill: #1967D2;\n",
              "      height: 32px;\n",
              "      padding: 0 0 0 0;\n",
              "      width: 32px;\n",
              "    }\n",
              "\n",
              "    .colab-df-convert:hover {\n",
              "      background-color: #E2EBFA;\n",
              "      box-shadow: 0px 1px 2px rgba(60, 64, 67, 0.3), 0px 1px 3px 1px rgba(60, 64, 67, 0.15);\n",
              "      fill: #174EA6;\n",
              "    }\n",
              "\n",
              "    [theme=dark] .colab-df-convert {\n",
              "      background-color: #3B4455;\n",
              "      fill: #D2E3FC;\n",
              "    }\n",
              "\n",
              "    [theme=dark] .colab-df-convert:hover {\n",
              "      background-color: #434B5C;\n",
              "      box-shadow: 0px 1px 3px 1px rgba(0, 0, 0, 0.15);\n",
              "      filter: drop-shadow(0px 1px 2px rgba(0, 0, 0, 0.3));\n",
              "      fill: #FFFFFF;\n",
              "    }\n",
              "  </style>\n",
              "\n",
              "      <script>\n",
              "        const buttonEl =\n",
              "          document.querySelector('#df-2742361d-118f-4fa5-a008-58af0300f01a button.colab-df-convert');\n",
              "        buttonEl.style.display =\n",
              "          google.colab.kernel.accessAllowed ? 'block' : 'none';\n",
              "\n",
              "        async function convertToInteractive(key) {\n",
              "          const element = document.querySelector('#df-2742361d-118f-4fa5-a008-58af0300f01a');\n",
              "          const dataTable =\n",
              "            await google.colab.kernel.invokeFunction('convertToInteractive',\n",
              "                                                     [key], {});\n",
              "          if (!dataTable) return;\n",
              "\n",
              "          const docLinkHtml = 'Like what you see? Visit the ' +\n",
              "            '<a target=\"_blank\" href=https://colab.research.google.com/notebooks/data_table.ipynb>data table notebook</a>'\n",
              "            + ' to learn more about interactive tables.';\n",
              "          element.innerHTML = '';\n",
              "          dataTable['output_type'] = 'display_data';\n",
              "          await google.colab.output.renderOutput(dataTable, element);\n",
              "          const docLink = document.createElement('div');\n",
              "          docLink.innerHTML = docLinkHtml;\n",
              "          element.appendChild(docLink);\n",
              "        }\n",
              "      </script>\n",
              "    </div>\n",
              "  </div>\n",
              "  "
            ]
          },
          "metadata": {}
        }
      ]
    },
    {
      "cell_type": "code",
      "source": [
        "META_precios = META_his['Close']\n",
        "META_precios.plot()\n",
        "plt.show()"
      ],
      "metadata": {
        "colab": {
          "base_uri": "https://localhost:8080/",
          "height": 281
        },
        "id": "ecHqtvEaJwWa",
        "outputId": "98ba30c6-0766-4833-832b-eec3c551d9b2"
      },
      "execution_count": 43,
      "outputs": [
        {
          "output_type": "display_data",
          "data": {
            "text/plain": [
              "<Figure size 432x288 with 1 Axes>"
            ],
            "image/png": "[encoded data removed]"
          },
          "metadata": {
            "needs_background": "light"
          }
        }
      ]
    },
    {
      "cell_type": "code",
      "source": [
        "META_ip1 = META_precios.shift(-1)\n",
        "METAr_i = (META_ip1-META_precios)/META_precios  \n",
        "METAr_i.plot()\n",
        "plt.show()"
      ],
      "metadata": {
        "colab": {
          "base_uri": "https://localhost:8080/",
          "height": 277
        },
        "id": "1ZMpg5n1J7_B",
        "outputId": "8e0f22d4-4994-4ffe-a92f-521b6004221a"
      },
      "execution_count": 46,
      "outputs": [
        {
          "output_type": "display_data",
          "data": {
            "text/plain": [
              "<Figure size 432x288 with 1 Axes>"
            ],
            "image/png": "[encoded data removed]"
          },
          "metadata": {
            "needs_background": "light"
          }
        }
      ]
    },
    {
      "cell_type": "code",
      "source": [
        "from numpy.random import randn\n",
        "from matplotlib import pyplot\n",
        "# Shapiro-Wilk Test\n",
        "from numpy.random import seed\n",
        "from numpy.random import randn\n",
        "from scipy.stats import shapiro\n",
        "# seed the random number generator\n",
        "seed(1)\n",
        "# generate univariate observations\n",
        "data = META_precios\n",
        "# normality test\n",
        "stat, p = shapiro(data)\n",
        "print('Statistics=%.3f, p=%.3f' % (stat, p))\n",
        "# interpret\n",
        "alpha = 0.05\n",
        "if p > alpha:\n",
        "  print('Sample looks Gaussian (fail to reject H0)')\n",
        "else:\n",
        "  print('Sample does not look Gaussian (reject H0)')\n",
        "pyplot.hist(data)\n",
        "pyplot.show()"
      ],
      "metadata": {
        "colab": {
          "base_uri": "https://localhost:8080/",
          "height": 300
        },
        "id": "NDbVYz53KAap",
        "outputId": "2ce65fa4-11bb-4b36-c1d7-56ab68040fe5"
      },
      "execution_count": 45,
      "outputs": [
        {
          "output_type": "stream",
          "name": "stdout",
          "text": [
            "Statistics=0.878, p=0.000\n",
            "Sample does not look Gaussian (reject H0)\n"
          ]
        },
        {
          "output_type": "display_data",
          "data": {
            "text/plain": [
              "<Figure size 432x288 with 1 Axes>"
            ],
            "image/png": "[encoded data removed]"
          },
          "metadata": {
            "needs_background": "light"
          }
        }
      ]
    },
    {
      "cell_type": "code",
      "source": [
        "METAr_i.dropna(inplace=True)\n",
        "barR = METAr_i.mean()\n",
        "sdR = METAr_i.std()\n",
        "print(\"Mean = \", barR)\n",
        "print(\"S.d. = \", sdR)"
      ],
      "metadata": {
        "colab": {
          "base_uri": "https://localhost:8080/"
        },
        "id": "f12snpdeKUN5",
        "outputId": "8e94bea2-b573-46d6-9868-e5e0a0165e95"
      },
      "execution_count": 16,
      "outputs": [
        {
          "output_type": "stream",
          "name": "stdout",
          "text": [
            "Mean =  -0.002470865746766201\n",
            "S.d. =  0.04033405384346403\n"
          ]
        }
      ]
    },
    {
      "cell_type": "code",
      "source": [
        "from scipy.stats import norm\n",
        "x_axis = np.arange(-3, 4, 0.1)\n",
        "META_norm = (METAr_i-barR)/sdR\n",
        "plt.hist(META_norm, density=True)\n",
        "plt.plot(x_axis, norm.pdf(x_axis, 0, 1))\n",
        "plt.show()"
      ],
      "metadata": {
        "colab": {
          "base_uri": "https://localhost:8080/",
          "height": 265
        },
        "id": "m3gz3BUhKX3p",
        "outputId": "b6824cbe-a616-4941-fa0f-3fdf4e33c537"
      },
      "execution_count": 47,
      "outputs": [
        {
          "output_type": "display_data",
          "data": {
            "text/plain": [
              "<Figure size 432x288 with 1 Axes>"
            ],
            "image/png": "[encoded data removed]"
          },
          "metadata": {
            "needs_background": "light"
          }
        }
      ]
    },
    {
      "cell_type": "code",
      "source": [
        "mu = barR*METAr_i.size\n",
        "print(\"mu=\",mu)"
      ],
      "metadata": {
        "colab": {
          "base_uri": "https://localhost:8080/"
        },
        "id": "iDaz9nF1Kbhw",
        "outputId": "be000fb5-b125-461b-d025-4eaabc391a10"
      },
      "execution_count": 48,
      "outputs": [
        {
          "output_type": "stream",
          "name": "stdout",
          "text": [
            "mu= -0.516410941074136\n"
          ]
        }
      ]
    },
    {
      "cell_type": "code",
      "source": [
        "from math import *\n",
        "sigma = sdR*sqrt(METAr_i.size)\n",
        "print(\"sigma=\", sigma)"
      ],
      "metadata": {
        "colab": {
          "base_uri": "https://localhost:8080/"
        },
        "id": "FzrsV1-qKkHv",
        "outputId": "b2e24954-3fda-4898-db06-91ad6ea9af88"
      },
      "execution_count": 49,
      "outputs": [
        {
          "output_type": "stream",
          "name": "stdout",
          "text": [
            "sigma= 0.5831026521844316\n"
          ]
        }
      ]
    },
    {
      "cell_type": "code",
      "source": [
        "logMETA_precios = np.log(META_precios)\n",
        "difMETA_precios = logMETA_precios - logMETA_precios.shift(1)\n",
        "difMETA_precios.dropna(inplace=True)\n",
        "sqrdifMETA_precios = difMETA_precios*difMETA_precios\n",
        "sumlogdifs = sqrdifMETA_precios.sum()/(len(sqrdifMETA_precios)-1)\n",
        "vol = sqrt(METAr_i.size)*sqrt(sumlogdifs)\n",
        "print(\"vol=\",vol)\n",
        "## Just check it is not the standard deviation of log prices\n",
        "vol2 = sqrt(METAr_i.size)*(logMETA_precios.std())\n",
        "print(\"vol2=\",vol2)"
      ],
      "metadata": {
        "colab": {
          "base_uri": "https://localhost:8080/"
        },
        "id": "SeiDla62Krc2",
        "outputId": "26d9c36e-485a-4d8d-8430-439a473239e4"
      },
      "execution_count": 50,
      "outputs": [
        {
          "output_type": "stream",
          "name": "stdout",
          "text": [
            "vol= 0.6409057345285842\n",
            "vol2= 3.610990009644437\n"
          ]
        }
      ]
    },
    {
      "cell_type": "code",
      "source": [
        "S0 = 194.42\t\n",
        "K\t= 187.50\t\n",
        "T\t= METAr_i.size/2/METAr_i.size\n",
        "N\t= 21\n",
        "r\t= -0.541119598541798\n",
        "sigma =\t0.6036683315446801\n",
        "dt = T/N \n",
        "u\t= np.exp(sigma*sqrt(dt))\n",
        "d\t= np.exp(-sigma*sqrt(dt))\n",
        "p=(np.exp(r*dt)-d)/(u-d)\n",
        "\n",
        "print(dt,u,d,p)\n",
        "print(\"u= \",1+sigma*sqrt(dt), \"\\t d=\", 1-sigma*sqrt(dt))"
      ],
      "metadata": {
        "colab": {
          "base_uri": "https://localhost:8080/"
        },
        "id": "QJ8Q7DxhLcaR",
        "outputId": "055c1da0-8878-4a3f-f6a2-c80a58e2df24"
      },
      "execution_count": 51,
      "outputs": [
        {
          "output_type": "stream",
          "name": "stdout",
          "text": [
            "0.023809523809523808 1.0976242219217363 0.911058611889218 0.40811502716305886\n",
            "u=  1.0931480458233709 \t d= 0.9068519541766291\n"
          ]
        }
      ]
    },
    {
      "cell_type": "code",
      "source": [
        "V = {}\n",
        "\n",
        "valores_intrisecos = []\n",
        "\n",
        "#Si escenario == 1 entonces sube, Si escenario == 0 entonces baja \n",
        "def arbol(estados,st,u,d,k, longitud, escenario, sumaNodosAnteriores):\n",
        "  st=round(st,2)\n",
        "  if estados==0:\n",
        "\n",
        "    valordelAnterior = 0\n",
        "    if escenario == 1:\n",
        "      valordelAnterior = st/u\n",
        "    elif escenario == 0:\n",
        "      valordelAnterior = st/d\n",
        "\n",
        "    valordelAnterior = round(valordelAnterior,1)\n",
        "\n",
        "    sumaDelNodo = st + valordelAnterior + sumaNodosAnteriores\n",
        "\n",
        "    promedio = sumaDelNodo / (longitud+1)\n",
        "\n",
        "    \n",
        "    valores_intrisecos.append(max(0, round(promedio-k,2)))\n",
        "\n",
        "    try:\n",
        "        V[longitud].append(st)\n",
        "    except:\n",
        "        V[longitud]=[st]\n",
        "  else:\n",
        "\n",
        "    valordelAnterior = 0\n",
        "    if escenario == 1:\n",
        "      valordelAnterior = st/u"
      ],
      "metadata": {
        "id": "26nJEYL2Ljy0"
      },
      "execution_count": 60,
      "outputs": []
    },
    {
      "cell_type": "code",
      "source": [
        "arbol(21,194.42,u,d,187.50\t,0, -1, 0)"
      ],
      "metadata": {
        "id": "9PDvVD3DLlDQ"
      },
      "execution_count": 61,
      "outputs": []
    },
    {
      "cell_type": "code",
      "source": [
        "p = (np.exp(r*dt)-d)/(u-d)\n",
        "dt = T/N\n",
        "r = -0.002470865746766201\n",
        "\n",
        "while len(valores_intrisecos) > 1:\n",
        "    intrisecos_tmp = []\n",
        "    for idx in range(0,len(valores_intrisecos),2):\n",
        "        valor_presente = exp(-r*dt)*((p*valores_intrisecos[idx])  + (1-p)*valores_intrisecos[idx+1])\n",
        "        intrisecos_tmp.append(valor_presente)\n",
        "\n",
        "    valores_intrisecos = intrisecos_tmp\n",
        "\n",
        "print(intrisecos_tmp)"
      ],
      "metadata": {
        "colab": {
          "base_uri": "https://localhost:8080/"
        },
        "id": "qFTBoHHaLzDO",
        "outputId": "09cb0a35-757e-472e-9295-018daf9dd723"
      },
      "execution_count": 62,
      "outputs": [
        {
          "output_type": "stream",
          "name": "stdout",
          "text": [
            "[3.559900042115658]\n"
          ]
        }
      ]
    }
  ]
}